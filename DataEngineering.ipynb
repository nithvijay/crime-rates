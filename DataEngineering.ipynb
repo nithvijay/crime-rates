{
 "cells": [
  {
   "cell_type": "code",
   "execution_count": 1,
   "metadata": {},
   "outputs": [],
   "source": [
    "import pandas as pd\n",
    "import numpy as np\n",
    "import"
   ]
  },
  {
   "cell_type": "code",
   "execution_count": 2,
   "metadata": {},
   "outputs": [],
   "source": [
    "weather = pd.read_csv(\n",
    "    \"https://raw.githubusercontent.com/zonination/weather-us/master/nyc.csv\",\n",
    "    parse_dates=[\"Date\"],\n",
    ").drop(\"Unnamed: 0\", axis=1)\n",
    "s = weather[\"PrecipitationIn\"].replace({\"T\": 0}).astype(np.float32)\n",
    "weather[\"PrecipitationIn\"] = s.where(s < 5, 0)\n",
    "\n",
    "nyc = pd.read_csv(\n",
    "    \"../NYCArrests.csv\",\n",
    "    usecols=[\n",
    "        \"ARREST_DATE\",\n",
    "        \"PD_DESC\",\n",
    "        \"OFNS_DESC\",\n",
    "        \"ARREST_BORO\",\n",
    "        \"AGE_GROUP\",\n",
    "        \"PERP_SEX\",\n",
    "        \"PERP_RACE\",\n",
    "        \"Latitude\",\n",
    "        \"Longitude\",\n",
    "    ],\n",
    "    parse_dates=[\"ARREST_DATE\"],\n",
    "    cache_dates=True,\n",
    ")\n",
    "sp500 = pd.read_csv(\"../S&P500.csv\", parse_dates=[\"Date\"])"
   ]
  },
  {
   "cell_type": "code",
   "execution_count": 21,
   "metadata": {},
   "outputs": [
    {
     "data": {
      "text/plain": [
       "361.1764705882353"
      ]
     },
     "execution_count": 21,
     "metadata": {},
     "output_type": "execute_result"
    }
   ],
   "source": [
    "nyc[\"ARREST_DATE\"].describe()\n",
    "sp500[\"Date\"].describe()\n",
    "nyc[\"ARREST_DATE\"].groupby(nyc[\"ARREST_DATE\"].dt.year).size().mean()\n",
    "sp500[\"Date\"].groupby(sp500[\"Date\"].dt.year).size().mean()\n",
    "weather[\"Date\"].groupby(weather[\"Date\"].dt.year).size().mean()"
   ]
  },
  {
   "cell_type": "code",
   "execution_count": 29,
   "metadata": {},
   "outputs": [
    {
     "data": {
      "text/plain": [
       "K    1334914\n",
       "M    1303786\n",
       "B    1097367\n",
       "Q     895903\n",
       "S     166361\n",
       "Name: ARREST_BORO, dtype: int64"
      ]
     },
     "execution_count": 29,
     "metadata": {},
     "output_type": "execute_result"
    }
   ],
   "source": [
    "nyc[\"ARREST_BORO\"].value_counts()\n",
    "# K is Brooklyn"
   ]
  },
  {
   "cell_type": "code",
   "execution_count": 46,
   "metadata": {},
   "outputs": [],
   "source": [
    "exploded = nyc[\"PD_DESC\"].str.split(\",\").explode()"
   ]
  },
  {
   "cell_type": "code",
   "execution_count": 49,
   "metadata": {},
   "outputs": [],
   "source": [
    "exploded1 = exploded.str.replace(\"\\d+\", \"\").str.strip()"
   ]
  },
  {
   "cell_type": "code",
   "execution_count": 71,
   "metadata": {},
   "outputs": [],
   "source": [
    "exploded2 = exploded1.value_counts().nlargest(20)"
   ]
  },
  {
   "cell_type": "code",
   "execution_count": 72,
   "metadata": {},
   "outputs": [],
   "source": [
    "exploded2.reset_index().rename(\n",
    "    {\"index\": \"Classification\", \"PD_DESC\": \"Number of Instances\"}, axis=1\n",
    ").to_csv(\"counts_of_crimes.csv\", index=False)"
   ]
  },
  {
   "cell_type": "code",
   "execution_count": 35,
   "metadata": {},
   "outputs": [],
   "source": [
    "df = pd.read_csv(\"../NYCArrestsOriginal.csv\")"
   ]
  },
  {
   "cell_type": "code",
   "execution_count": 3,
   "metadata": {},
   "outputs": [],
   "source": [
    "to_merge1 = sp500[[\"Date\", \"Close\", \"Open\", \"Volume\"]]\n",
    "to_merge2 = (\n",
    "    nyc[\"ARREST_DATE\"]\n",
    "    .value_counts()\n",
    "    .reset_index(name=\"Num Arrests\")\n",
    "    .rename({\"index\": \"Date\"}, axis=1)\n",
    ")\n",
    "to_merge3 = weather[\n",
    "    [\"Date\", \"Mean.TemperatureF\", \"PrecipitationIn\", \"Events\", \"season\"]\n",
    "]"
   ]
  },
  {
   "cell_type": "code",
   "execution_count": 4,
   "metadata": {},
   "outputs": [],
   "source": [
    "daily = to_merge1.merge(to_merge2).merge(to_merge3)"
   ]
  },
  {
   "cell_type": "code",
   "execution_count": 5,
   "metadata": {},
   "outputs": [],
   "source": [
    "daily[\"Year\"] = daily[\"Date\"].dt.year\n",
    "daily[\"Week\"] = daily[\"Date\"].dt.week\n",
    "daily[\"Month\"] = daily[\"Date\"].dt.month"
   ]
  },
  {
   "cell_type": "code",
   "execution_count": 6,
   "metadata": {},
   "outputs": [],
   "source": [
    "weekly = daily.groupby([\"Year\", \"Week\"]).mean().reset_index()"
   ]
  },
  {
   "cell_type": "code",
   "execution_count": 12,
   "metadata": {},
   "outputs": [
    {
     "data": {
      "text/plain": [
       "Date\n",
       "2006    251\n",
       "2007    251\n",
       "2008    253\n",
       "2009    252\n",
       "2010    252\n",
       "2011    252\n",
       "2012    250\n",
       "2013    252\n",
       "2014    252\n",
       "2015    252\n",
       "dtype: int64"
      ]
     },
     "execution_count": 12,
     "metadata": {},
     "output_type": "execute_result"
    }
   ],
   "source": [
    "daily.groupby(daily[\"Date\"].dt.year).size()"
   ]
  },
  {
   "cell_type": "code",
   "execution_count": 49,
   "metadata": {},
   "outputs": [],
   "source": [
    "daily.to_csv(\"daily.csv\", index=False)\n",
    "weekly.to_csv(\"weekly.csv\", index=False)"
   ]
  },
  {
   "cell_type": "code",
   "execution_count": 33,
   "metadata": {},
   "outputs": [
    {
     "data": {
      "text/plain": [
       "array(['Rain', nan, 'Fog', 'Snow', 'Thunderstorm'], dtype=object)"
      ]
     },
     "execution_count": 33,
     "metadata": {},
     "output_type": "execute_result"
    }
   ],
   "source": [
    "daily[\"Events\"].str.split(\"-\").explode().unique()"
   ]
  },
  {
   "cell_type": "markdown",
   "metadata": {},
   "source": [
    "1 degree = 111 km\n",
    "\n",
    ".1 degree = 11.1 km\n",
    "\n",
    ".01 degree = 1.11 km\n",
    "\n",
    ".001 degree = .111 km  = 111m"
   ]
  },
  {
   "cell_type": "code",
   "execution_count": 40,
   "metadata": {},
   "outputs": [],
   "source": [
    "precision = 1000\n",
    "nyc[\"RoundedLat\"] = (nyc[\"Latitude\"] * precision).round() / precision\n",
    "nyc[\"RoundedLong\"] = (nyc[\"Longitude\"] * precision).round() / precision"
   ]
  },
  {
   "cell_type": "code",
   "execution_count": 41,
   "metadata": {},
   "outputs": [
    {
     "data": {
      "text/plain": [
       "Index(['RoundedLat', 'RoundedLong', 'Count'], dtype='object')"
      ]
     },
     "execution_count": 41,
     "metadata": {},
     "output_type": "execute_result"
    }
   ],
   "source": [
    "to_graph = (\n",
    "    nyc.groupby([\"RoundedLat\", \"RoundedLong\"]).size().reset_index(name=\"Count\").dropna()\n",
    ")\n",
    "to_graph = to_graph[to_graph[\"RoundedLat\"] < 41]\n",
    "to_graph.columns"
   ]
  },
  {
   "cell_type": "code",
   "execution_count": 45,
   "metadata": {},
   "outputs": [
    {
     "data": {
      "text/plain": [
       "'pk.eyJ1IjoiYXNkZmZhIiwiYSI6ImNqeTdwMHRjNDAxc3ozZHBob240ZWMwd3UifQ.7YZDqSZ_EZx7-78pnR0v_g'"
      ]
     },
     "execution_count": 45,
     "metadata": {},
     "output_type": "execute_result"
    }
   ],
   "source": [
    "\"pk.eyJ1IjoiYXNkZmZhIiwiYSI6ImNqeTdwMHRjNDAxc3ozZHBob240ZWMwd3UifQ.7YZDqSZ_EZx7-78pnR0v_g\""
   ]
  }
 ],
 "metadata": {
  "kernelspec": {
   "display_name": "Python 3",
   "language": "python",
   "name": "python3"
  },
  "language_info": {
   "codemirror_mode": {
    "name": "ipython",
    "version": 3
   },
   "file_extension": ".py",
   "mimetype": "text/x-python",
   "name": "python",
   "nbconvert_exporter": "python",
   "pygments_lexer": "ipython3",
   "version": "3.7.3"
  }
 },
 "nbformat": 4,
 "nbformat_minor": 4
}
