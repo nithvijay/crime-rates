{
 "cells": [
  {
   "cell_type": "code",
   "execution_count": 26,
   "metadata": {},
   "outputs": [],
   "source": [
    "import pandas as pd\n",
    "import numpy as np"
   ]
  },
  {
   "cell_type": "code",
   "execution_count": 44,
   "metadata": {},
   "outputs": [],
   "source": [
    "weather = pd.read_csv(\n",
    "    \"https://raw.githubusercontent.com/zonination/weather-us/master/nyc.csv\",\n",
    "    parse_dates=[\"Date\"],\n",
    ").drop(\"Unnamed: 0\", axis=1)\n",
    "s = weather['PrecipitationIn'].replace({'T':0}).astype(np.float32)\n",
    "weather['PrecipitationIn'] = s.where(s < 5, 0)\n",
    "\n",
    "nyc = pd.read_csv(\n",
    "    \"../NYCArrests.csv\",\n",
    "    usecols=[\n",
    "        \"ARREST_DATE\",\n",
    "        \"PD_DESC\",\n",
    "        \"OFNS_DESC\",\n",
    "        \"ARREST_BORO\",\n",
    "        \"AGE_GROUP\",\n",
    "        \"PERP_SEX\",\n",
    "        \"PERP_RACE\",\n",
    "        \"Latitude\",\n",
    "        \"Longitude\",\n",
    "    ],\n",
    "    parse_dates=[\"ARREST_DATE\"],\n",
    "    cache_dates=True,\n",
    ")\n",
    "sp500 = pd.read_csv(\"../S&P500.csv\", parse_dates=[\"Date\"])"
   ]
  },
  {
   "cell_type": "code",
   "execution_count": 45,
   "metadata": {},
   "outputs": [],
   "source": [
    "to_merge1 = sp500[[\"Date\", \"Close\", 'Open', 'Volume']]\n",
    "to_merge2 = (\n",
    "    nyc[\"ARREST_DATE\"]\n",
    "    .value_counts()\n",
    "    .reset_index(name=\"Num Arrests\")\n",
    "    .rename({\"index\": \"Date\"}, axis=1)\n",
    ")\n",
    "to_merge3 = weather[[\"Date\", \"Mean.TemperatureF\", \"PrecipitationIn\", \"Events\", 'season']]"
   ]
  },
  {
   "cell_type": "code",
   "execution_count": 46,
   "metadata": {},
   "outputs": [],
   "source": [
    "daily = to_merge1.merge(to_merge2).merge(to_merge3)"
   ]
  },
  {
   "cell_type": "code",
   "execution_count": 47,
   "metadata": {},
   "outputs": [],
   "source": [
    "daily[\"Year\"] = daily[\"Date\"].dt.year\n",
    "daily[\"Week\"] = daily[\"Date\"].dt.week\n",
    "daily[\"Month\"] = daily[\"Date\"].dt.month"
   ]
  },
  {
   "cell_type": "code",
   "execution_count": 48,
   "metadata": {},
   "outputs": [],
   "source": [
    "weekly = daily.groupby([\"Year\", \"Week\"]).mean().reset_index()\n"
   ]
  },
  {
   "cell_type": "code",
   "execution_count": 49,
   "metadata": {},
   "outputs": [],
   "source": [
    "daily.to_csv('daily.csv', index = False)\n",
    "weekly.to_csv('weekly.csv', index = False)"
   ]
  },
  {
   "cell_type": "code",
   "execution_count": 33,
   "metadata": {},
   "outputs": [
    {
     "data": {
      "text/plain": [
       "array(['Rain', nan, 'Fog', 'Snow', 'Thunderstorm'], dtype=object)"
      ]
     },
     "execution_count": 33,
     "metadata": {},
     "output_type": "execute_result"
    }
   ],
   "source": [
    "daily['Events'].str.split('-').explode().unique()"
   ]
  },
  {
   "cell_type": "markdown",
   "metadata": {},
   "source": [
    "1 degree = 111 km\n",
    "\n",
    ".1 degree = 11.1 km\n",
    "\n",
    ".01 degree = 1.11 km\n",
    "\n",
    ".001 degree = .111 km  = 111m"
   ]
  },
  {
   "cell_type": "code",
   "execution_count": 40,
   "metadata": {},
   "outputs": [],
   "source": [
    "precision = 1000\n",
    "nyc[\"RoundedLat\"] = (nyc[\"Latitude\"] * precision).round() / precision\n",
    "nyc[\"RoundedLong\"] = (nyc[\"Longitude\"] * precision).round() / precision"
   ]
  },
  {
   "cell_type": "code",
   "execution_count": 41,
   "metadata": {},
   "outputs": [
    {
     "data": {
      "text/plain": [
       "Index(['RoundedLat', 'RoundedLong', 'Count'], dtype='object')"
      ]
     },
     "execution_count": 41,
     "metadata": {},
     "output_type": "execute_result"
    }
   ],
   "source": [
    "to_graph = (\n",
    "    nyc.groupby([\"RoundedLat\", \"RoundedLong\"]).size().reset_index(name=\"Count\").dropna()\n",
    ")\n",
    "to_graph = to_graph[to_graph[\"RoundedLat\"] < 41]\n",
    "to_graph.columns"
   ]
  },
  {
   "cell_type": "code",
   "execution_count": 45,
   "metadata": {},
   "outputs": [
    {
     "data": {
      "text/plain": [
       "'pk.eyJ1IjoiYXNkZmZhIiwiYSI6ImNqeTdwMHRjNDAxc3ozZHBob240ZWMwd3UifQ.7YZDqSZ_EZx7-78pnR0v_g'"
      ]
     },
     "execution_count": 45,
     "metadata": {},
     "output_type": "execute_result"
    }
   ],
   "source": [
    "\"pk.eyJ1IjoiYXNkZmZhIiwiYSI6ImNqeTdwMHRjNDAxc3ozZHBob240ZWMwd3UifQ.7YZDqSZ_EZx7-78pnR0v_g\""
   ]
  }
 ],
 "metadata": {
  "kernelspec": {
   "display_name": "Python 3",
   "language": "python",
   "name": "python3"
  },
  "language_info": {
   "codemirror_mode": {
    "name": "ipython",
    "version": 3
   },
   "file_extension": ".py",
   "mimetype": "text/x-python",
   "name": "python",
   "nbconvert_exporter": "python",
   "pygments_lexer": "ipython3",
   "version": "3.7.3"
  }
 },
 "nbformat": 4,
 "nbformat_minor": 4
}
