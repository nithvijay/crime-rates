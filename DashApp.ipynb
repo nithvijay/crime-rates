{
 "cells": [
  {
   "cell_type": "code",
   "execution_count": 1,
   "metadata": {},
   "outputs": [],
   "source": [
    "import dash\n",
    "import dash_core_components as dcc\n",
    "import dash_html_components as html\n",
    "from dash.dependencies import Input, Output\n",
    "import pandas as pd\n",
    "\n",
    "external_stylesheets = [\"https://codepen.io/chriddyp/pen/bWLwgP.css\"]"
   ]
  },
  {
   "cell_type": "code",
   "execution_count": null,
   "metadata": {},
   "outputs": [],
   "source": [
    "import jupyterlab_dash\n",
    "viewer = jupyterlab_dash.AppViewer()"
   ]
  },
  {
   "cell_type": "code",
   "execution_count": null,
   "metadata": {},
   "outputs": [],
   "source": [
    "daily = pd.read_csv('https://raw.githubusercontent.com/nithvijay/crime-rates/master/daily.csv')"
   ]
  },
  {
   "cell_type": "code",
   "execution_count": null,
   "metadata": {},
   "outputs": [],
   "source": [
    "app.layout = html.Div(\n",
    "    children=[\n",
    "        html.H1(children=\"Dash Test\"),\n",
    "        html.Div(\n",
    "            children=\"\"\"\n",
    "                     Dash: A web application framework for Python.\n",
    "                     \"\"\"\n",
    "        ),\n",
    "        html.Div(\n",
    "            id=\"radio-items\",\n",
    "            children=dcc.RadioItems(\n",
    "                id=\"radio-test\",\n",
    "                options=[\n",
    "                    {\"label\": \"New York City\", \"value\": \"NYC\"},\n",
    "                    {\"label\": \"Montréal\", \"value\": \"MTL\"},\n",
    "                ],\n",
    "                value=\"MTL\",\n",
    "            ),\n",
    "        ),\n",
    "        # dcc.Graph(id=\"example-graph\"),\n",
    "        html.H3(id=\"graph-title\", children=\"This is the graph title\"),\n",
    "        dcc.Graph(id=\"weekly-by-year\"),\n",
    "        dcc.Slider(\n",
    "            id=\"years-slider\",\n",
    "            min=weekly[\"Year\"].min(),\n",
    "            max=weekly[\"Year\"].max(),\n",
    "            value=weekly[\"Year\"].min(),\n",
    "            marks={str(year): {\"label\": str(year)} for year in weekly[\"Year\"].unique()},\n",
    "        ),\n",
    "        html.Br(),\n",
    "    ]\n",
    ")\n",
    "@app.callback(Output(\"weekly-by-year\", \"figure\"), [Input(\"years-slider\", \"value\")])\n",
    "def update_weekly_app(year):\n",
    "    return update_weekly(year)"
   ]
  },
  {
   "cell_type": "code",
   "execution_count": null,
   "metadata": {},
   "outputs": [],
   "source": [
    "def update_weekly(year, value):\n",
    "    weekly_by_year = weekly.loc[\n",
    "        weekly[\"Year\"] == year,\n",
    "        [\"Week\", \"Close\", \"Num Arrests\", \"Month\", \"Mean.TemperatureF\"],\n",
    "    ]\n",
    "    fig = go.Figure()\n",
    "    fig = make_subplots(specs=[[{\"secondary_y\": True}]])\n",
    "\n",
    "    fig.add_trace(\n",
    "        go.Scatter(\n",
    "            x=weekly_by_year[\"Week\"],\n",
    "            y=weekly_by_year[\"Num Arrests\"],\n",
    "            name=\"Number of Crimes\",\n",
    "            mode=\"markers\",\n",
    "            yaxis=\"y1\",\n",
    "        ),\n",
    "        secondary_y=False,\n",
    "    )\n",
    "    fig.add_trace(\n",
    "        go.Scatter(\n",
    "            x=weekly_by_year[\"Week\"],\n",
    "            y=weekly_by_year[value],\n",
    "            name=\"S&P500 Close Price\",\n",
    "            yaxis=\"y2\",\n",
    "        ),\n",
    "        secondary_y=True,\n",
    "    )\n",
    "    fig.update_xaxes(\n",
    "        ticktext=[\n",
    "            \"January\",\n",
    "            \"March\",\n",
    "            \"June\",\n",
    "            \"August\",\n",
    "            \"October\",\n",
    "            \"December\",\n",
    "        ],  # 1, 3, 5, 7, 9, 11\n",
    "        tickvals=[1, 10, 20, 30, 40, 50],\n",
    "    )\n",
    "    fig.update_layout(\n",
    "        xaxis={\"zeroline\": False},\n",
    "        title=year,\n",
    "        transition={\"duration\": 1000},\n",
    "        yaxis1={\"title\": \"Number of Arrests\"},\n",
    "        yaxis2={\"title\": \"S&P\"},\n",
    "    )\n",
    "    print(year)\n",
    "    return fig"
   ]
  },
  {
   "cell_type": "code",
   "execution_count": null,
   "metadata": {},
   "outputs": [],
   "source": [
    "if __name__ == '__main__':\n",
    "    app.run_server(debug=True)"
   ]
  }
 ],
 "metadata": {
  "kernelspec": {
   "display_name": "Python 3",
   "language": "python",
   "name": "python3"
  },
  "language_info": {
   "codemirror_mode": {
    "name": "ipython",
    "version": 3
   },
   "file_extension": ".py",
   "mimetype": "text/x-python",
   "name": "python",
   "nbconvert_exporter": "python",
   "pygments_lexer": "ipython3",
   "version": "3.7.3"
  }
 },
 "nbformat": 4,
 "nbformat_minor": 4
}
